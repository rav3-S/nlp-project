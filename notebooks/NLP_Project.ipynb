{
  "nbformat": 4,
  "nbformat_minor": 5,
  "metadata": {
    "kernelspec": {
      "display_name": "Python 3",
      "language": "python",
      "name": "python3"
    },
    "language_info": {
      "codemirror_mode": {
        "name": "ipython",
        "version": 3
      },
      "file_extension": ".py",
      "mimetype": "text/x-python",
      "name": "python",
      "nbconvert_exporter": "python",
      "pygments_lexer": "ipython3",
      "version": "3.9.1+"
    },
    "colab": {
      "name": "NLP-Project.ipynb",
      "provenance": [],
      "collapsed_sections": []
    }
  },
  "cells": [
    {
      "cell_type": "markdown",
      "metadata": {
        "id": "36f38e2a-9998-4c73-bfc3-21b74d64a5ee"
      },
      "source": [
        "### NLP Project\n",
        "+ Emotion Detection In Text \n",
        "+ Text Classifier"
      ],
      "id": "36f38e2a-9998-4c73-bfc3-21b74d64a5ee"
    },
    {
      "cell_type": "code",
      "metadata": {
        "id": "f0814628-3d83-4fd6-a511-2eccf79f9f1e"
      },
      "source": [
        "# Load EDA Pkgs\n",
        "import pandas as pd\n",
        "import numpy as np"
      ],
      "id": "f0814628-3d83-4fd6-a511-2eccf79f9f1e",
      "execution_count": null,
      "outputs": []
    },
    {
      "cell_type": "code",
      "metadata": {
        "id": "ea0d580d-c31c-44b7-b09b-10225857eebe"
      },
      "source": [
        "# Load Data Viz Pkgs\n",
        "import seaborn as sns"
      ],
      "id": "ea0d580d-c31c-44b7-b09b-10225857eebe",
      "execution_count": null,
      "outputs": []
    },
    {
      "cell_type": "code",
      "metadata": {
        "id": "R3wfTHrg7su_"
      },
      "source": [
        "# Install Pkgs\n",
        "pip install neattext"
      ],
      "id": "R3wfTHrg7su_",
      "execution_count": null,
      "outputs": []
    },
    {
      "cell_type": "code",
      "metadata": {
        "id": "91eccfbf-d4d0-4e16-b0f7-2d7941efddb0"
      },
      "source": [
        "# Load Text Cleaning Pkgs\n",
        "import neattext.functions as nfx"
      ],
      "id": "91eccfbf-d4d0-4e16-b0f7-2d7941efddb0",
      "execution_count": null,
      "outputs": []
    },
    {
      "cell_type": "code",
      "metadata": {
        "id": "21e7e868-35fb-483f-82b6-842a29ef1342"
      },
      "source": [
        "# Load ML Pkgs\n",
        "# Estimators\n",
        "from sklearn.linear_model import LogisticRegression\n",
        "from sklearn.naive_bayes import MultinomialNB\n",
        "\n",
        "# Transformers\n",
        "from sklearn.feature_extraction.text import CountVectorizer\n",
        "from sklearn.model_selection import train_test_split\n",
        "from sklearn.metrics import accuracy_score,classification_report,confusion_matrix"
      ],
      "id": "21e7e868-35fb-483f-82b6-842a29ef1342",
      "execution_count": null,
      "outputs": []
    },
    {
      "cell_type": "code",
      "metadata": {
        "id": "b209e004-ab77-4407-8689-b4318944d47f"
      },
      "source": [
        "# Load Dataset\n",
        "df = pd.read_csv(\"emotion_dataset_raw.csv\")"
      ],
      "id": "b209e004-ab77-4407-8689-b4318944d47f",
      "execution_count": null,
      "outputs": []
    },
    {
      "cell_type": "code",
      "metadata": {
        "id": "fea2d4c0-3bdd-405e-ab69-507ceaac36cb"
      },
      "source": [
        "df.head()"
      ],
      "id": "fea2d4c0-3bdd-405e-ab69-507ceaac36cb",
      "execution_count": null,
      "outputs": []
    },
    {
      "cell_type": "code",
      "metadata": {
        "id": "430565a3-cf3b-4c6f-afa5-bafd084f5676"
      },
      "source": [
        "# Value Counts\n",
        "df['Emotion'].value_counts()"
      ],
      "id": "430565a3-cf3b-4c6f-afa5-bafd084f5676",
      "execution_count": null,
      "outputs": []
    },
    {
      "cell_type": "code",
      "metadata": {
        "id": "531d3449-a959-4a19-bff0-3ffed551e619"
      },
      "source": [
        "# Plot\n",
        "sns.countplot(x='Emotion',data=df)"
      ],
      "id": "531d3449-a959-4a19-bff0-3ffed551e619",
      "execution_count": null,
      "outputs": []
    },
    {
      "cell_type": "code",
      "metadata": {
        "jupyter": {
          "outputs_hidden": true
        },
        "tags": [],
        "id": "40f991d0-952f-40c1-bf00-f3476ce0436d"
      },
      "source": [
        "# Data Cleaning\n",
        "dir(nfx)"
      ],
      "id": "40f991d0-952f-40c1-bf00-f3476ce0436d",
      "execution_count": null,
      "outputs": []
    },
    {
      "cell_type": "code",
      "metadata": {
        "id": "b1f87847-a91c-4bd6-a307-d746eb5aa9a0"
      },
      "source": [
        "# User handles\n",
        "df['Clean_Text'] = df['Text'].apply(nfx.remove_userhandles)"
      ],
      "id": "b1f87847-a91c-4bd6-a307-d746eb5aa9a0",
      "execution_count": null,
      "outputs": []
    },
    {
      "cell_type": "code",
      "metadata": {
        "id": "03886bc3-1ac4-4f1b-842b-e5d2d770ff81"
      },
      "source": [
        "# Stopwords\n",
        "df['Clean_Text'] = df['Clean_Text'].apply(nfx.remove_stopwords)"
      ],
      "id": "03886bc3-1ac4-4f1b-842b-e5d2d770ff81",
      "execution_count": null,
      "outputs": []
    },
    {
      "cell_type": "code",
      "metadata": {
        "jupyter": {
          "outputs_hidden": true
        },
        "tags": [],
        "id": "0a0fcc0c-4adf-4f0b-b226-164659ad70ba"
      },
      "source": [
        "df"
      ],
      "id": "0a0fcc0c-4adf-4f0b-b226-164659ad70ba",
      "execution_count": null,
      "outputs": []
    },
    {
      "cell_type": "code",
      "metadata": {
        "id": "450c39c0-79dd-4eaf-85fe-57e344eb81bd"
      },
      "source": [
        "# Features & Labels\n",
        "Xfeatures = df['Clean_Text']\n",
        "ylabels = df['Emotion']"
      ],
      "id": "450c39c0-79dd-4eaf-85fe-57e344eb81bd",
      "execution_count": null,
      "outputs": []
    },
    {
      "cell_type": "code",
      "metadata": {
        "id": "27d7f976-c28f-449e-ae1a-53a42bbda4e8"
      },
      "source": [
        "#  Split Data\n",
        "x_train,x_test,y_train,y_test = train_test_split(Xfeatures,ylabels,test_size=0.3,random_state=42)"
      ],
      "id": "27d7f976-c28f-449e-ae1a-53a42bbda4e8",
      "execution_count": null,
      "outputs": []
    },
    {
      "cell_type": "code",
      "metadata": {
        "id": "2f086f29-dba9-40d2-a9dd-f06a6cca3a4c"
      },
      "source": [
        "# Build Pipeline\n",
        "from sklearn.pipeline import Pipeline"
      ],
      "id": "2f086f29-dba9-40d2-a9dd-f06a6cca3a4c",
      "execution_count": null,
      "outputs": []
    },
    {
      "cell_type": "code",
      "metadata": {
        "id": "6b81cc86-2bef-40c2-b9a3-668caaadaff0"
      },
      "source": [
        "# LogisticRegression Pipeline\n",
        "pipe_lr = Pipeline(steps=[('cv',CountVectorizer()),('lr',LogisticRegression())])"
      ],
      "id": "6b81cc86-2bef-40c2-b9a3-668caaadaff0",
      "execution_count": null,
      "outputs": []
    },
    {
      "cell_type": "code",
      "metadata": {
        "jupyter": {
          "outputs_hidden": true
        },
        "tags": [],
        "id": "dc64b9a7-efe2-4bc4-a0e7-46dff1d52b31"
      },
      "source": [
        "# Train and Fit Data\n",
        "pipe_lr.fit(x_train,y_train)"
      ],
      "id": "dc64b9a7-efe2-4bc4-a0e7-46dff1d52b31",
      "execution_count": null,
      "outputs": []
    },
    {
      "cell_type": "code",
      "metadata": {
        "id": "135ed6f8-56ff-4d53-85e3-541e3a7ae2d7"
      },
      "source": [
        "pipe_lr"
      ],
      "id": "135ed6f8-56ff-4d53-85e3-541e3a7ae2d7",
      "execution_count": null,
      "outputs": []
    },
    {
      "cell_type": "code",
      "metadata": {
        "id": "28396371-5f5c-4a3b-b974-164e047764f3"
      },
      "source": [
        "# Check Accuracy\n",
        "pipe_lr.score(x_test,y_test)"
      ],
      "id": "28396371-5f5c-4a3b-b974-164e047764f3",
      "execution_count": null,
      "outputs": []
    },
    {
      "cell_type": "code",
      "metadata": {
        "id": "eb3a26b6-d09e-422f-991b-b08c48f55b75"
      },
      "source": [
        "# Make A Prediction\n",
        "ex1 = \"This movie was very interesting and fun to watch\""
      ],
      "id": "eb3a26b6-d09e-422f-991b-b08c48f55b75",
      "execution_count": null,
      "outputs": []
    },
    {
      "cell_type": "code",
      "metadata": {
        "id": "b08597d9-6f59-45cb-a648-95b0da1ce313"
      },
      "source": [
        "pipe_lr.predict([ex1])"
      ],
      "id": "b08597d9-6f59-45cb-a648-95b0da1ce313",
      "execution_count": null,
      "outputs": []
    },
    {
      "cell_type": "code",
      "metadata": {
        "id": "5b3822ac-17fc-43dd-9bb7-8dad07a4d32c"
      },
      "source": [
        "# Prediction Prob\n",
        "pipe_lr.predict_proba([ex1])"
      ],
      "id": "5b3822ac-17fc-43dd-9bb7-8dad07a4d32c",
      "execution_count": null,
      "outputs": []
    },
    {
      "cell_type": "code",
      "metadata": {
        "id": "5b7c4596-d643-48e5-a777-79a6f55c49da"
      },
      "source": [
        "# To Know the classes\n",
        "pipe_lr.classes_"
      ],
      "id": "5b7c4596-d643-48e5-a777-79a6f55c49da",
      "execution_count": null,
      "outputs": []
    },
    {
      "cell_type": "code",
      "metadata": {
        "id": "c0d40f62-b1fd-4748-a279-c8f50c748f26"
      },
      "source": [
        "# Save Model & Pipeline\n",
        "import joblib\n",
        "pipeline_file = open(\"emotion_classifier_pipe_lr_25_july_2021.pkl\",\"wb\")\n",
        "joblib.dump(pipe_lr,pipeline_file)\n",
        "pipeline_file.close()"
      ],
      "id": "c0d40f62-b1fd-4748-a279-c8f50c748f26",
      "execution_count": null,
      "outputs": []
    },
    {
      "cell_type": "code",
      "metadata": {
        "id": "377c4e98-67f0-45e5-8dd5-0417585754f0"
      },
      "source": [
        ""
      ],
      "id": "377c4e98-67f0-45e5-8dd5-0417585754f0",
      "execution_count": null,
      "outputs": []
    }
  ]
}